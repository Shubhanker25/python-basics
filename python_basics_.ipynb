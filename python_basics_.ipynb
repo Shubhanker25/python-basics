{
  "nbformat": 4,
  "nbformat_minor": 0,
  "metadata": {
    "colab": {
      "provenance": []
    },
    "kernelspec": {
      "name": "python3",
      "display_name": "Python 3"
    },
    "language_info": {
      "name": "python"
    }
  },
  "cells": [
    {
      "cell_type": "code",
      "execution_count": null,
      "metadata": {
        "id": "_MFj_D7CnEPV"
      },
      "outputs": [],
      "source": []
    },
    {
      "cell_type": "markdown",
      "source": [
        "Qns1- What is Python, and why is it popular?\n",
        "\n",
        "Ans- Python is a high level programming launguage known for its readability, simplicity, and versatility. It was created by Guido van Rossum and first released in 1991.\n",
        "Here are some reasons why Python is so popular:\n",
        "\n",
        "* Easy to Learn and Read: Python uses straightforward syntax that emphasizes readability, making it easy for newcomers to pick up. It’s often described as being almost like reading English, which is great for beginners.\n",
        "\n",
        "* Versatility: Python is a general-purpose language, meaning you can use it for a variety of applications, such as:web development,software development, automation.\n",
        "\n",
        "* Large Ecosystem and Libraries: Python has an extensive collection of libraries like numpy, pandas,matplotlib etC, and frameworks that make it easier to perform complex tasks.\n",
        "\n",
        "* Python can run on different operating systems (Windows, macOS, Linux) without modification.\n",
        "\n",
        "* Python is in high demand in industries like data science, machine learning, web development, and automation.\n",
        "\n"
      ],
      "metadata": {
        "id": "hEfjLnwPnZtg"
      }
    },
    {
      "cell_type": "markdown",
      "source": [
        "Qns-2 What is an interpreter in Python?\n",
        "\n",
        "Ans- An interpreter in Python is a program that reads and executes Python code line by line. It translates the high-level Python code (written by the developer) into machine code that the computer can understand and execute. Unlike a compiler, which translates the entire program into machine code before execution, an interpreter processes the code one statement at a time during runtime."
      ],
      "metadata": {
        "id": "nfYjBxuH8M5J"
      }
    },
    {
      "cell_type": "markdown",
      "source": [
        "Qns-3 What are pre-defined keywords in Python?\n",
        "\n",
        "Ans- predefined keywords (also known as reserved words) are a set of words that have special meanings .\n",
        "* These keywords cannot be used as identifiers (such as variable names, function names, etc.) because they are reserved for specific purposes and can not be altered.\n",
        "* Some predefined keywords are - if , else, for ,while, and ,or not, del ,def, break etc.\n",
        "\n",
        "---\n",
        "\n"
      ],
      "metadata": {
        "id": "1G3js5km8h23"
      }
    },
    {
      "cell_type": "markdown",
      "source": [
        "Qns4-: Can keywords be used as variable names?\n"
      ],
      "metadata": {
        "id": "v240VDcq-woq"
      }
    },
    {
      "cell_type": "markdown",
      "source": [
        " Ans - No, keywords cannot be used as variable names in Python. Keywords are reserved words that have special meanings and are used by the Python interpreter to define the structure and syntax of the language. These words are essential for defining control flow, data types, functions, and other language features, so they cannot be re-used as identifiers (such as variable names, function names, etc.\n",
        "\n",
        "  Ex-\n",
        " True = 5     # Invalid: 'True' is a keyword\n",
        "\n",
        "if = 10      # Invalid: 'if' is a keyword\n",
        "\n",
        "class = \"Hello\"  # Invalid: 'class' is a keyword\n"
      ],
      "metadata": {
        "id": "1fxYfCKJ-iBz"
      }
    },
    {
      "cell_type": "markdown",
      "source": [
        "Qns-5 What is mutability in Python?\n",
        "\n",
        "Ans- In Python, mutability refers to the ability of an object to be changed after it is created. When an object is mutable, you can modify its contents or state without changing its identity (i.e., its reference) after creation.\n",
        "\n",
        "Mutable data structures:\n",
        "\n",
        "Lists\n",
        "\n",
        "Dictionaries\n",
        "\n",
        "Sets\n",
        "\n",
        "For example, you can modify the elements of a list after it's created:\n",
        "\n",
        "my_list = [1, 2, 3]\n",
        "\n",
        "my_list.append(50)  # Can modify a list in place\n",
        "\n",
        "print(my_list)  # Output: [1, 2, 3, 50]\n"
      ],
      "metadata": {
        "id": "KWftIdX7xDT2"
      }
    },
    {
      "cell_type": "markdown",
      "source": [
        "Qns-6 Why are lists mutable, but tuples are immutable?\n",
        "\n",
        "Ans- The key difference between mutable lists and immutable tuples reflects their respective design purposes:\n",
        "\n",
        "* Lists are meant to be flexible and changeable.\n",
        "\n",
        "* Tuples are meant to be fixed and constant for performance, safety, and data integrity reasons.\n",
        "\n",
        "Lists (Mutable): Lists are designed to hold collections of items where you might need to change or update the contents during the program's execution. Lists are often used when you need to modify the collection (e.g., adding, removing, or updating elements).\n",
        "\n",
        "Example use cases: Working with data that changes over time, like user input or dynamically updating information (e.g., a list of tasks that gets added to or edited).\n",
        "\n",
        "Tuples (Immutable): Tuples are designed to represent collections of items that should not change after creation. They are often used for fixed, heterogeneous data (like coordinates, or returning multiple values from a function), where immutability is a guarantee that the data will remain constant and won't be accidentally altered.\n",
        "\n",
        "Example use cases: Storing fixed collections of data (e.g., RGB color values), or as keys in dictionaries (because immutable objects can be used as keys, while mutable objects like lists cannot)."
      ],
      "metadata": {
        "id": "6mCdoDfdyIX5"
      }
    },
    {
      "cell_type": "markdown",
      "source": [
        "Qns 7 What is the difference between “==” and “is” operators in Python?\n",
        "\n",
        "Ans- 1. == (Equality Operator)\n",
        "\n",
        "The == operator is used to compare the values of two objects. It checks if the contents of the objects are equal, meaning the data stored in the objects is the same.\n",
        "\n",
        "is (Identity Operator)\n",
        "\n",
        "The is operator is used to compare the identities of two objects. It checks whether two references point to the same object in memory, not if they have the same value. This is a check for object identity (i.e., whether two variables refer to the exact same object).\n",
        "\n",
        "a = [1, 2, 3]\n",
        "b = [1, 2, 3]\n",
        "c = a\n",
        "\n",
        "# Equality check (==)\n",
        "print(a == b)  # Output: True (values are the same)\n",
        "print(a == c)  # Output: True (values are the same)\n",
        "\n",
        "# Identity check (is)\n",
        "print(a is b)  # Output: False (a and b are different objects)\n",
        "print(a is c)  # Output: True (a and c refer to the same object)\n"
      ],
      "metadata": {
        "id": "tizw71Cwz7My"
      }
    },
    {
      "cell_type": "markdown",
      "source": [
        "Qns-8 What are logical operators in Python?\n",
        "\n",
        "Ans- In Python, logical operators are used to combine conditional statements and evaluate boolean expressions. There are three main logical operators\n",
        "- And (&) Operator-  Returns True if both conditions are True, otherwise it returns False.\n",
        "- Or operator- Returns True if at least one of the conditions is True, otherwise it returns False.\n",
        "-Not(!) operator - Reverses the result of a condition. It returns True if the condition is False, and False if the condition is True."
      ],
      "metadata": {
        "id": "R9vS4eqt9Njq"
      }
    },
    {
      "cell_type": "markdown",
      "source": [
        "Qns 9- What is type casting in Python?\n",
        "\n",
        "Ans- Type casting is the process to change the data type of an object/variable to another . This is useful when you need to perform operations on different data types or when you're working with user input, which is usually in string format.\n",
        "\n",
        "Common Type Casting Functions:\n",
        "\n",
        "int(): Converts a value to an integer.\n",
        "\n",
        "Example: int(3.5) results in 3\n",
        "\n",
        "float(): Converts a value to a float.\n",
        "\n",
        "Example: float(3) results in 3.0\n",
        "\n",
        "str(): Converts a value to a string.\n",
        "\n",
        "Example: str(100) results in \"100\""
      ],
      "metadata": {
        "id": "ROCb5NDtkvVG"
      }
    },
    {
      "cell_type": "markdown",
      "source": [
        "Qns 10- What is the difference between implicit and explicit type casting?\n",
        "\n",
        "Ans- Implicit Type Casting :\n",
        "\n",
        "This happens automatically when Python converts a lower data type to a higher data type without the need for explicit instruction. For example, when you perform operations involving integers and floats, Python will automatically convert integers to floats.\n",
        "\n",
        "Example:\n",
        "x = 5      # integer\n",
        "\n",
        "y = 3.2    # float\n",
        "\n",
        "result = x + y  # Implicitly, x is converted to a float before adding\n",
        "\n",
        "print(result)   # Output: 8.2\n",
        "\n",
        "Explicit Type Casting:\n",
        "\n",
        "This requires the programmer to explicitly convert one data type to another using the built-in functions like int(), float(), str(), etc.\n",
        "\n",
        "Example\n",
        "\n",
        "x = \"45.67\"    # string\n",
        "\n",
        "y = float(x)   # casting string to float\n",
        "\n",
        "z = int(y)     # casting float to int\n",
        "\n",
        "print(x, type(x))  # Output: 45.67 <class 'str'>\n",
        "\n",
        "print(y, type(y))  # Output: 45.67 <class 'float'>\n",
        "\n",
        "print(z, type(z))  # Output: 45 <class 'int'>\n",
        "\n",
        "\n",
        "\n"
      ],
      "metadata": {
        "id": "xo5vhJtEl5n1"
      }
    },
    {
      "cell_type": "markdown",
      "source": [
        "Qns-11 What is the purpose of conditional statements in Python?\n",
        "\n",
        "Ans- In Python, conditional statements are used to make decisions in the code based on whether certain conditions are true or false. They allow the program to execute different blocks of code depending on the outcome of a condition, making the program more dynamic and interactive.\n",
        "\n",
        "Why Conditional Statements are Important:\n",
        "\n",
        "Flexibility: They allow the program to handle a variety of scenarios, giving flexibility to the code.\n",
        "\n",
        "Customization: Through conditionals, you can customize the behavior of the program based on real-time data, user input, or calculated results.\n",
        "\n",
        "Efficiency: Instead of running the same code in all situations, conditional statements allow you to optimize the program by running only the necessary code."
      ],
      "metadata": {
        "id": "Mu1FGPZKnMiO"
      }
    },
    {
      "cell_type": "markdown",
      "source": [
        "Qns-12  How does the elif statement work?\n",
        "\n",
        "Ans- The elif (short for \"else if\") statement in Python is used to check multiple conditions in a sequence. It allows you to test for additional conditions if the initial if condition is false, and it provides more flexibility in decision-making within a program.\n",
        "\n",
        "Why Use elif?\n",
        "\n",
        "* It allows you to handle multiple conditions in a clean and organized way.\n",
        "\n",
        "* It avoids the need for nested if statements, making the code more readable.\n",
        "\n",
        "Example-\n"
      ],
      "metadata": {
        "id": "VIsI1EDjn9UZ"
      }
    },
    {
      "cell_type": "code",
      "source": [
        "x = 30\n",
        "\n",
        "if x < 10:\n",
        "    print(\"x is less than 10\")\n",
        "elif x < 20:\n",
        "    print(\"x is between 10 and 19\")\n",
        "elif x < 30:\n",
        "    print(\"x is between 20 and 29\")\n",
        "else:\n",
        "    print(\"x is 30 or more\")\n"
      ],
      "metadata": {
        "colab": {
          "base_uri": "https://localhost:8080/"
        },
        "id": "KDW_YfS_o5vh",
        "outputId": "3043b61e-5cf4-4009-b7d1-ccee51e76814"
      },
      "execution_count": 1,
      "outputs": [
        {
          "output_type": "stream",
          "name": "stdout",
          "text": [
            "x is 30 or more\n"
          ]
        }
      ]
    },
    {
      "cell_type": "markdown",
      "source": [
        "Qns 13- What is the difference between for and while loops?\n",
        "\n",
        "Ans- 1. For Loop:\n",
        "The for loop is used when you know exactly how many times you want to iterate through a block of code.\n",
        "\n",
        "How it works: It iterates over a sequence (like a list, tuple, string, or range) and runs the code block for each item in the sequence.\n",
        "\n",
        "Common Use Case: Iterating over a sequence, like a list of items, or running a loop a fixed number of times.\n",
        "\n",
        "2. While Loop:\n",
        "\n",
        "Purpose: The while loop is used when you don’t know exactly how many times the loop will run in advance, but you know the condition that will terminate the loop.\n",
        "\n",
        "How it works: The loop runs as long as a specified condition remains True. The condition is checked before each iteration.\n",
        "\n",
        "Common Use Case: Continuously executing a block of code until a certain condition is met."
      ],
      "metadata": {
        "id": "0rT2YPklpECq"
      }
    },
    {
      "cell_type": "code",
      "source": [
        "#For loop example\n",
        "numbers = [1, 2, 3, 4, 5]\n",
        "for num in numbers:\n",
        "    print(num)\n"
      ],
      "metadata": {
        "colab": {
          "base_uri": "https://localhost:8080/"
        },
        "id": "KxmX96_DqtPS",
        "outputId": "31696c20-d035-4553-cf05-70ffbb36abb7"
      },
      "execution_count": 2,
      "outputs": [
        {
          "output_type": "stream",
          "name": "stdout",
          "text": [
            "1\n",
            "2\n",
            "3\n",
            "4\n",
            "5\n"
          ]
        }
      ]
    },
    {
      "cell_type": "code",
      "source": [
        "#while loop example\n",
        "count = 0\n",
        "while count < 5:\n",
        "    print(count)\n",
        "    count += 1\n"
      ],
      "metadata": {
        "colab": {
          "base_uri": "https://localhost:8080/"
        },
        "id": "ZFPk4vVQrexD",
        "outputId": "be841de0-628b-43d2-ffb4-43979e39cf2c"
      },
      "execution_count": 3,
      "outputs": [
        {
          "output_type": "stream",
          "name": "stdout",
          "text": [
            "0\n",
            "1\n",
            "2\n",
            "3\n",
            "4\n"
          ]
        }
      ]
    },
    {
      "cell_type": "markdown",
      "source": [
        "Qns 14-  Describe a scenario where a while loop is more suitable than a for loop?\n",
        "\n",
        "Ans- A while loop is more suitable than a for loop when the number of iterations is not known beforehand, and the loop should continue executing as long as a certain condition is met. In contrast, a for loop is used when the number of iterations is determined by the number of items in a sequence (or a fixed range), so it’s less flexible in scenarios where you need a loop to run based on a condition rather than an iteration count.\n",
        "\n",
        "Scenario: Waiting for User Input Until a Valid Entry is Provided\n",
        "Imagine you're writing a program that asks the user to enter a valid password. The program should continue prompting the user until they enter a valid password, but you don't know how many times the user might try to enter the correct password. This is a perfect scenario for a while loop, because the loop should keep running as long as the user’s input is incorrect.\n"
      ],
      "metadata": {
        "id": "x0IrOjlMr5rU"
      }
    },
    {
      "cell_type": "code",
      "source": [
        "correct_password = \"python123\"\n",
        "user_input = \"\"\n",
        "\n",
        "# While loop will continue until the correct password is entered\n",
        "while user_input != correct_password:\n",
        "    user_input = input(\"Enter the correct password: \")\n",
        "\n",
        "print(\"Password accepted! Welcome.\")\n",
        "\n",
        "#A for loop would not be a good choice because you can’t determine in advance how many times the user will need to try before entering the correct password."
      ],
      "metadata": {
        "colab": {
          "base_uri": "https://localhost:8080/"
        },
        "id": "OoxO2yYzsYE2",
        "outputId": "071ffe25-a3a1-42dd-cdfe-4e1bbd209b61"
      },
      "execution_count": 7,
      "outputs": [
        {
          "output_type": "stream",
          "name": "stdout",
          "text": [
            "Enter the correct password: python123\n",
            "Password accepted! Welcome.\n"
          ]
        }
      ]
    },
    {
      "cell_type": "markdown",
      "source": [
        "Qns 1- Write a Python program to print \"Hello, World!"
      ],
      "metadata": {
        "id": "1j5zDOY72dFx"
      }
    },
    {
      "cell_type": "markdown",
      "source": [],
      "metadata": {
        "id": "KARve9zs2MQR"
      }
    },
    {
      "cell_type": "code",
      "source": [
        "#Ans\n",
        "message= (\"Hello World\")\n",
        "print(message)"
      ],
      "metadata": {
        "colab": {
          "base_uri": "https://localhost:8080/"
        },
        "id": "Ix-bbvEe2j2W",
        "outputId": "f6e61d54-f6b2-42c7-9e65-77178a91d149"
      },
      "execution_count": 8,
      "outputs": [
        {
          "output_type": "stream",
          "name": "stdout",
          "text": [
            "Hello World\n"
          ]
        }
      ]
    },
    {
      "cell_type": "markdown",
      "source": [
        "Qns-2 Write a Python program that displays your name and age?"
      ],
      "metadata": {
        "id": "6pLYSoXS2ytk"
      }
    },
    {
      "cell_type": "code",
      "source": [
        "#Ans\n",
        "\n",
        "my_name= \"Shubhanker\"\n",
        "age= 27\n",
        "print(f\" My name is {my_name} and age is {age}\")"
      ],
      "metadata": {
        "colab": {
          "base_uri": "https://localhost:8080/"
        },
        "id": "D9qPKRdC24dX",
        "outputId": "95d94726-31fb-4e51-b094-e1f9a31a3730"
      },
      "execution_count": 53,
      "outputs": [
        {
          "output_type": "stream",
          "name": "stdout",
          "text": [
            " My name is Shubhanker and age is 27\n"
          ]
        }
      ]
    },
    {
      "cell_type": "markdown",
      "source": [
        "Qns-3 Write code to print all the pre-defined keywords in Python using the keyword library"
      ],
      "metadata": {
        "id": "vKoWQ7ea3WSV"
      }
    },
    {
      "cell_type": "code",
      "source": [
        "#Ans\n",
        "import keyword\n",
        "\n",
        "# Get the list of all Python keywords\n",
        "keywords = keyword.kwlist\n",
        "\n",
        "# Print all the keywords\n",
        "print(\"Python Keywords:\")\n",
        "for word in keywords:\n",
        "    print(word)\n"
      ],
      "metadata": {
        "colab": {
          "base_uri": "https://localhost:8080/"
        },
        "collapsed": true,
        "id": "nk8QDVka3btA",
        "outputId": "74642a43-e132-4b85-b1c2-4a463e4b43a2"
      },
      "execution_count": 11,
      "outputs": [
        {
          "output_type": "stream",
          "name": "stdout",
          "text": [
            "Python Keywords:\n",
            "False\n",
            "None\n",
            "True\n",
            "and\n",
            "as\n",
            "assert\n",
            "async\n",
            "await\n",
            "break\n",
            "class\n",
            "continue\n",
            "def\n",
            "del\n",
            "elif\n",
            "else\n",
            "except\n",
            "finally\n",
            "for\n",
            "from\n",
            "global\n",
            "if\n",
            "import\n",
            "in\n",
            "is\n",
            "lambda\n",
            "nonlocal\n",
            "not\n",
            "or\n",
            "pass\n",
            "raise\n",
            "return\n",
            "try\n",
            "while\n",
            "with\n",
            "yield\n"
          ]
        }
      ]
    },
    {
      "cell_type": "markdown",
      "source": [
        "Qns-4 Write a program that checks if a given word is a Python keyword?"
      ],
      "metadata": {
        "id": "CZb5Rty03290"
      }
    },
    {
      "cell_type": "code",
      "source": [
        "#Ans\n",
        "given_word = \"if\"\n",
        "\n",
        "# Check if the given word is a Python keyword\n",
        "if keyword.iskeyword(given_word):\n",
        "    print(f\"'{given_word}' is a Python keyword.\")\n",
        "else:\n",
        "    print(f\"'{given_word}' is not a Python keyword.\")"
      ],
      "metadata": {
        "colab": {
          "base_uri": "https://localhost:8080/"
        },
        "id": "Xo6qM73h371F",
        "outputId": "2ef3746d-b9e5-4e26-8870-c2c5fd6a0ffe"
      },
      "execution_count": 12,
      "outputs": [
        {
          "output_type": "stream",
          "name": "stdout",
          "text": [
            "'if' is a Python keyword.\n"
          ]
        }
      ]
    },
    {
      "cell_type": "markdown",
      "source": [
        "Qns-5 Create a list and tuple in Python, and demonstrate how attempting to change an element works differently\n",
        "for each?"
      ],
      "metadata": {
        "id": "5JMMhVHU4Rvs"
      }
    },
    {
      "cell_type": "code",
      "source": [
        "#Ans\n",
        "# Creating a list\n",
        "my_list = [1, 2, 3, 4]\n",
        "\n",
        "# Creating a tuple\n",
        "my_tuple = (1, 2, 3, 4)\n",
        "\n",
        "# Attempting to change an element in the list\n",
        "\n",
        "my_list[2] = 100\n",
        "print(\"List after change:\", my_list)\n",
        "#this will execute and and in new list 3 will interchanges with 100 in output because list are mutable.\n",
        "\n",
        "# Attempting to change an element in the tuple\n",
        "\n",
        "my_tuple[2] = 100\n",
        "print(\"Tuple after change:\", my_tuple)\n",
        "#We attempt to modify an element in my_tuple. Since tuples are immutable, trying to modify a tuple will raise a TypeError.\n",
        "\n"
      ],
      "metadata": {
        "id": "T7besFNz4b3H"
      },
      "execution_count": null,
      "outputs": []
    },
    {
      "cell_type": "markdown",
      "source": [
        "Qns-6 Write a function to demonstrate the behavior of mutable and immutable argument?\n",
        "\n"
      ],
      "metadata": {
        "id": "Ju6Fz_Os6S55"
      }
    },
    {
      "cell_type": "code",
      "source": [
        "\n",
        "def demo_mutable_immutable(mutable_arg, immutable_arg):\n",
        "    print(\"Original mutable_arg:\", mutable_arg)\n",
        "    print(\"Original immutable_arg:\", immutable_arg)\n",
        "\n",
        "    # Modifying mutable argument (list)\n",
        "    mutable_arg.append(100)\n",
        "    print(\"Modified mutable_arg:\", mutable_arg)  # List is modified in place\n",
        "\n",
        "    # Modifying immutable argument (string)\n",
        "    immutable_arg = \"Changed\"\n",
        "    print(\"Modified immutable_arg:\", immutable_arg)  # String is reassigned, not modified in place\n",
        "\n",
        "# Creating mutable and immutable objects\n",
        "mutable_list = [1, 2, 3]\n",
        "immutable_string = \"Hello\"\n",
        "\n",
        "# Call the function with mutable and immutable arguments\n",
        "demo_mutable_immutable(mutable_list, immutable_string)\n",
        "\n",
        "# Check the values outside the function\n",
        "print(\"Outside function, mutable_list:\", mutable_list)\n",
        "print(\"Outside function, immutable_string:\", immutable_string)\n"
      ],
      "metadata": {
        "colab": {
          "base_uri": "https://localhost:8080/"
        },
        "id": "dX3GM8akqCFp",
        "outputId": "e2572d85-2e98-448e-e356-3c77a618ed4e"
      },
      "execution_count": 51,
      "outputs": [
        {
          "output_type": "stream",
          "name": "stdout",
          "text": [
            "Original mutable_arg: [1, 2, 3]\n",
            "Original immutable_arg: Hello\n",
            "Modified mutable_arg: [1, 2, 3, 100]\n",
            "Modified immutable_arg: Changed\n",
            "Outside function, mutable_list: [1, 2, 3, 100]\n",
            "Outside function, immutable_string: Hello\n"
          ]
        }
      ]
    },
    {
      "cell_type": "markdown",
      "source": [
        "Qns7- Write a function to demonstrate the behavior of mutable and immutable argument?"
      ],
      "metadata": {
        "id": "G20XZk5XbnX-"
      }
    },
    {
      "cell_type": "code",
      "source": [
        "# Function to demonstrate mutable and immutable arguments\n",
        "def demo_mutable_immutable(mutable_arg, immutable_arg):\n",
        "    print(\"Original mutable_arg:\", mutable_arg)\n",
        "    print(\"Original immutable_arg:\", immutable_arg)\n",
        "\n",
        "    # Modifying mutable argument (list)\n",
        "    mutable_arg.append(100)\n",
        "    print(\"Modified mutable_arg:\", mutable_arg)  # List is modified in place\n",
        "\n",
        "    # Modifying immutable argument (string)\n",
        "    immutable_arg = \"Changed\"\n",
        "    print(\"Modified immutable_arg:\", immutable_arg)  # String is reassigned, not modified in place\n",
        "\n",
        "# Creating mutable and immutable objects\n",
        "mutable_list = [1, 2, 3]\n",
        "immutable_string = \"Hello\"\n",
        "\n",
        "# Call the function with mutable and immutable arguments\n",
        "demo_mutable_immutable(mutable_list, immutable_string)\n",
        "\n",
        "# Check the values outside the function\n",
        "print(\"Outside function, mutable_list:\", mutable_list)\n",
        "print(\"Outside function, immutable_string:\", immutable_string)\n"
      ],
      "metadata": {
        "colab": {
          "base_uri": "https://localhost:8080/"
        },
        "id": "DLsciD8fqtdd",
        "outputId": "d63fb306-3494-451c-adcd-17de14a0e168"
      },
      "execution_count": 52,
      "outputs": [
        {
          "output_type": "stream",
          "name": "stdout",
          "text": [
            "Original mutable_arg: [1, 2, 3]\n",
            "Original immutable_arg: Hello\n",
            "Modified mutable_arg: [1, 2, 3, 100]\n",
            "Modified immutable_arg: Changed\n",
            "Outside function, mutable_list: [1, 2, 3, 100]\n",
            "Outside function, immutable_string: Hello\n"
          ]
        }
      ]
    },
    {
      "cell_type": "markdown",
      "source": [
        "QNS-8 Write a program to demonstrate the use of logical operators?"
      ],
      "metadata": {
        "id": "ZNsvos5Jbui5"
      }
    },
    {
      "cell_type": "code",
      "source": [
        "#Ans\n",
        "x = 8\n",
        "y = 15\n",
        "z = 25\n",
        "\n",
        "# AND operator with integers\n",
        "# The result of the AND operator is True only if both conditions are True\n",
        "# In Python, 0 is considered False, and any non-zero integer is considered True\n",
        "print(f\"x > 5 AND y < 20: {x > 5 and y < 20}\")  # True because both conditions are True\n",
        "print(f\"x < 5 AND z > 20: {x < 5 and z > 20}\")  # False because x is not less than 5\n",
        "\n",
        "# OR operator with integers\n",
        "# The result of the OR operator is True if at least one of the conditions is True\n",
        "print(f\"x > 5 OR y < 10: {x > 5 or y < 10}\")    # True because x > 5 is True\n",
        "print(f\"x < 5 OR z < 20: {x < 5 or z < 20}\")    # False because neither condition is True\n",
        "\n",
        "# NOT operator with integers\n",
        "# The NOT operator negates the Boolean value of the expression\n",
        "print(f\"NOT (x > 5): {not (x > 5)}\")  # False because x > 5 is True, so NOT makes it False\n",
        "print(f\"NOT (y == 15): {not (y == 15)}\")  # False because y == 15 is True, so NOT makes it False\n",
        "\n",
        "# Using logical operators in more complex conditions\n",
        "print(f\"(x > 5 AND y > 10) OR (z < 30): {(x > 5 and y > 10) or (z < 30)}\")  # True, because (x > 5 and y > 10) is True\n",
        "\n"
      ],
      "metadata": {
        "colab": {
          "base_uri": "https://localhost:8080/"
        },
        "collapsed": true,
        "id": "BGLzfCQeb1Qy",
        "outputId": "fa5c3fdb-2c78-4e83-d08c-a0ea7fc748bf"
      },
      "execution_count": 17,
      "outputs": [
        {
          "output_type": "stream",
          "name": "stdout",
          "text": [
            "x > 5 AND y < 20: True\n",
            "x < 5 AND z > 20: False\n",
            "x > 5 OR y < 10: True\n",
            "x < 5 OR z < 20: False\n",
            "NOT (x > 5): False\n",
            "NOT (y == 15): False\n",
            "(x > 5 AND y > 10) OR (z < 30): True\n"
          ]
        }
      ]
    },
    {
      "cell_type": "markdown",
      "source": [
        "Qns-9 Write a Python program to convert user input from string to integer, float, and boolean types."
      ],
      "metadata": {
        "id": "dGrGAmV2cVK4"
      }
    },
    {
      "cell_type": "code",
      "source": [
        "#Ans\n",
        "user_input= input(\"Enter your age: \")#by default input function always returns a string value\n",
        "\n",
        "# Convert to integer\n",
        "\n",
        "print(\"converted integer user age is:\",int(user_input))\n",
        "\n",
        "# Convert to float\n",
        "\n",
        "print(\"converted float user age is:\",float(user_input))\n",
        "\n",
        "# Convert to boolean\n",
        "\n",
        "print(bool(user_input))\n",
        "\n"
      ],
      "metadata": {
        "colab": {
          "base_uri": "https://localhost:8080/"
        },
        "id": "9ObuZf0MccHd",
        "outputId": "497a32bb-2ee4-4b59-c227-4bd1a75a5e7d"
      },
      "execution_count": 26,
      "outputs": [
        {
          "output_type": "stream",
          "name": "stdout",
          "text": [
            "Enter your age: 5\n",
            "converted integer user age is: 5\n",
            "converted float user age is: 5.0\n",
            "True\n"
          ]
        }
      ]
    },
    {
      "cell_type": "markdown",
      "source": [
        "Qns-10 Write code to demonstrate type casting with list elements?\n"
      ],
      "metadata": {
        "id": "NPpuTHwChHZ1"
      }
    },
    {
      "cell_type": "code",
      "source": [
        "#Answer\n",
        "# Original list\n",
        "my_list = [1, 2.5, 3, 4,5.78]\n",
        "\n",
        "# Convert each element to an integer (where possible)\n",
        "integer_list = [int(float(i)) if isinstance(i, (int, float, str)) and i != \"true\" else 1 if i == \"true\" else 0 for i in my_list]\n",
        "print(f\"List converted to integers: {integer_list}\")\n",
        "\n",
        "# Convert each element to a float\n",
        "float_list = [float(i) if isinstance(i, (int, float, str)) else 0.0 for i in my_list]\n",
        "print(f\"List converted to floats: {float_list}\")\n",
        "\n",
        "# Convert each element to a boolean\n",
        "boolean_list = [bool(i) for i in my_list]\n",
        "print(f\"List converted to booleans: {boolean_list}\")\n",
        "\n"
      ],
      "metadata": {
        "colab": {
          "base_uri": "https://localhost:8080/"
        },
        "id": "fvxF34pUhP95",
        "outputId": "b475a806-c8f8-496d-e755-8d830d0020a1"
      },
      "execution_count": 32,
      "outputs": [
        {
          "output_type": "stream",
          "name": "stdout",
          "text": [
            "List converted to integers: [1, 2, 3, 4, 5]\n",
            "List converted to floats: [1.0, 2.5, 3.0, 4.0, 5.78]\n",
            "List converted to booleans: [True, True, True, True, True]\n"
          ]
        }
      ]
    },
    {
      "cell_type": "markdown",
      "source": [
        "Qns-11 Write a program that checks if a number is positive, negative, or zero"
      ],
      "metadata": {
        "id": "ipa7H-y9kFu1"
      }
    },
    {
      "cell_type": "code",
      "source": [
        "#Ans\n",
        "number=-55\n",
        "if number>0 :\n",
        "  print(\"number is positive\")\n",
        "elif number==0:\n",
        "  print(\"number is zero\")\n",
        "else:\n",
        "  print(\"number is negative\")\n"
      ],
      "metadata": {
        "colab": {
          "base_uri": "https://localhost:8080/"
        },
        "id": "dexOrqBwkL6Y",
        "outputId": "19be2fbe-ac56-4b91-d89d-03d673676ea3"
      },
      "execution_count": 36,
      "outputs": [
        {
          "output_type": "stream",
          "name": "stdout",
          "text": [
            "number is negative\n"
          ]
        }
      ]
    },
    {
      "cell_type": "markdown",
      "source": [
        "Qns-12 Write a for loop to print numbers from 1 to 100"
      ],
      "metadata": {
        "id": "fvVIaAm9k6nr"
      }
    },
    {
      "cell_type": "code",
      "source": [
        "#Ans\n",
        "# Use a for loop to print numbers from 1 to 100\n",
        "for number in range(1, 101):\n",
        "    print(number)\n"
      ],
      "metadata": {
        "colab": {
          "base_uri": "https://localhost:8080/"
        },
        "collapsed": true,
        "id": "OTIk-VSIk_Cd",
        "outputId": "c9135bda-7a83-4c80-fbfa-6ab1bcfce7e0"
      },
      "execution_count": 41,
      "outputs": [
        {
          "output_type": "stream",
          "name": "stdout",
          "text": [
            "1\n",
            "2\n",
            "3\n",
            "4\n",
            "5\n",
            "6\n",
            "7\n",
            "8\n",
            "9\n",
            "10\n",
            "11\n",
            "12\n",
            "13\n",
            "14\n",
            "15\n",
            "16\n",
            "17\n",
            "18\n",
            "19\n",
            "20\n",
            "21\n",
            "22\n",
            "23\n",
            "24\n",
            "25\n",
            "26\n",
            "27\n",
            "28\n",
            "29\n",
            "30\n",
            "31\n",
            "32\n",
            "33\n",
            "34\n",
            "35\n",
            "36\n",
            "37\n",
            "38\n",
            "39\n",
            "40\n",
            "41\n",
            "42\n",
            "43\n",
            "44\n",
            "45\n",
            "46\n",
            "47\n",
            "48\n",
            "49\n",
            "50\n",
            "51\n",
            "52\n",
            "53\n",
            "54\n",
            "55\n",
            "56\n",
            "57\n",
            "58\n",
            "59\n",
            "60\n",
            "61\n",
            "62\n",
            "63\n",
            "64\n",
            "65\n",
            "66\n",
            "67\n",
            "68\n",
            "69\n",
            "70\n",
            "71\n",
            "72\n",
            "73\n",
            "74\n",
            "75\n",
            "76\n",
            "77\n",
            "78\n",
            "79\n",
            "80\n",
            "81\n",
            "82\n",
            "83\n",
            "84\n",
            "85\n",
            "86\n",
            "87\n",
            "88\n",
            "89\n",
            "90\n",
            "91\n",
            "92\n",
            "93\n",
            "94\n",
            "95\n",
            "96\n",
            "97\n",
            "98\n",
            "99\n",
            "100\n"
          ]
        }
      ]
    },
    {
      "cell_type": "markdown",
      "source": [
        "Qns-13 Write a Python program to find the sum of all even numbers between 1 and 50\n"
      ],
      "metadata": {
        "id": "QkXaQZNunChv"
      }
    },
    {
      "cell_type": "code",
      "source": [
        "#Answer\n",
        "sum_of_even_numbers = 0\n",
        "for num in range(1, 51):\n",
        "    if num % 2 == 0:\n",
        "        sum_of_even_numbers += num  # Add the even number to the sum\n",
        "print(\"Sum of all even numbers between 1 and 50:\", sum_of_even_numbers)\n"
      ],
      "metadata": {
        "colab": {
          "base_uri": "https://localhost:8080/"
        },
        "id": "IS2gyJ_BnKkx",
        "outputId": "cf61ab3a-cc82-4b20-a851-30dfe99795fb"
      },
      "execution_count": 46,
      "outputs": [
        {
          "output_type": "stream",
          "name": "stdout",
          "text": [
            "Sum of all even numbers between 1 and 50: 650\n"
          ]
        }
      ]
    },
    {
      "cell_type": "markdown",
      "source": [
        "Qns-14 Write a program to reverse a string using a while loop?"
      ],
      "metadata": {
        "id": "0djCdnVyn-oZ"
      }
    },
    {
      "cell_type": "code",
      "source": [
        "#Answer\n",
        "string=\"shubhanker\"\n",
        "reversed_string = \"\"\n",
        "index = len(string) - 1\n",
        "\n",
        "# Use a while loop to reverse the string\n",
        "while index >= 0:\n",
        "    reversed_string += string[index]  # Add the character at the current index to the reversed string\n",
        "    index -= 1  # Move to the previous character\n",
        "print(\"Reversed string:\", reversed_string)\n",
        "\n"
      ],
      "metadata": {
        "colab": {
          "base_uri": "https://localhost:8080/"
        },
        "id": "xB4ipHjboGVI",
        "outputId": "bf4a4807-b22c-4f00-c184-34cd544ce644"
      },
      "execution_count": 48,
      "outputs": [
        {
          "output_type": "stream",
          "name": "stdout",
          "text": [
            "Reversed string: reknahbuhs\n"
          ]
        }
      ]
    },
    {
      "cell_type": "markdown",
      "source": [
        "Qns-15 Write a Python program to calculate the factorial of a number provided by the user using a while loop.\n"
      ],
      "metadata": {
        "id": "2eYEyJtFpE7a"
      }
    },
    {
      "cell_type": "code",
      "source": [
        "#Ans\n",
        "number = int(input(\"Enter a number to calculate its factorial: \"))\n",
        "factorial = 1\n",
        "i = 1\n",
        "while i <= number:\n",
        "    factorial *= i\n",
        "    i += 1  # Increment i to move to the next number\n",
        "print(f\"The factorial of {number} is: {factorial}\")\n"
      ],
      "metadata": {
        "colab": {
          "base_uri": "https://localhost:8080/"
        },
        "id": "gqS8S2BBpLiM",
        "outputId": "7cac0ef5-1696-4dfc-fd58-2f50eee42972"
      },
      "execution_count": 50,
      "outputs": [
        {
          "output_type": "stream",
          "name": "stdout",
          "text": [
            "Enter a number to calculate its factorial: 10\n",
            "The factorial of 10 is: 3628800\n"
          ]
        }
      ]
    }
  ]
}